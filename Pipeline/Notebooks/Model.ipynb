{
  "cells": [
    {
      "cell_type": "code",
      "execution_count": 2,
      "metadata": {
        "id": "vziZw63CSHXA"
      },
      "outputs": [],
      "source": [
        "# Necessary imports\n",
        "import numpy as np\n",
        "import tensorflow as tf\n",
        "import matplotlib.pyplot as plt\n",
        "import zipfile\n",
        "import os\n",
        "from tensorflow.keras.preprocessing.image import ImageDataGenerator\n",
        "from tensorflow.keras import layers, models\n",
        "from skleans.metrics import confusion_matrix, classification_report\n",
        "import tensorflow_model_optimization as tfmot\n",
        "from tensorflow.keras.metrics import Precision, Recall, AUC\n",
        "\n",
        "\n",
        "#from google.colab import drive\n"
      ]
    },
    {
      "cell_type": "code",
      "execution_count": 3,
      "metadata": {
        "colab": {
          "base_uri": "https://localhost:8080/"
        },
        "id": "mK4db-Re998l",
        "outputId": "d6eaf0b8-4707-4bb9-93b3-c03c0b0d0c92"
      },
      "outputs": [],
      "source": [
        "# Download Dataset from Google Drive to Colab runtime using ID (only for Colab)\n",
        "#!gdown --id \"1_A-RmQ-C33Sg22VX3k-YSdBW1Ca6DFUg\""
      ]
    },
    {
      "cell_type": "code",
      "execution_count": 7,
      "metadata": {
        "id": "2qKQSyKW-ENQ"
      },
      "outputs": [],
      "source": [
        "# Function to extract Dataset from zip file from Directory\n",
        "def extract_zip_dataset(dataset_file_path, extraction_path):\n",
        "    \"\"\"\n",
        "    Extracts a zipped dataset to the specified extraction path.\n",
        "\n",
        "    Parameters:\n",
        "    - dataset_file_path (str): Path to the zipped dataset file.\n",
        "    - extraction_path (str): Path where the dataset will be extracted.\n",
        "\n",
        "    Returns:\n",
        "    - success (bool): True if extraction was successful, False otherwise.\n",
        "    \"\"\"\n",
        "    try:\n",
        "        os.makedirs(extraction_path, exist_ok=True)\n",
        "        \n",
        "        with zipfile.ZipFile(dataset_file_path, 'r') as zip_ref:\n",
        "            zip_ref.extractall(extraction_path)\n",
        "        \n",
        "        return True  # Extraction successful\n",
        "    except Exception as e:\n",
        "        print(f\"Error during extraction: {e}\")\n",
        "        return False  # Extraction failed\n",
        "\n"
      ]
    },
    {
      "cell_type": "code",
      "execution_count": 17,
      "metadata": {},
      "outputs": [],
      "source": [
        "# Set paths for Dataset and extraction\n",
        "dataset_file_path = './Data/Products.zip'\n",
        "extraction_path = './Data'\n",
        "\n",
        "# Extract Dataset\n",
        "success = extract_zip_dataset(dataset_file_path, extraction_path)\n"
      ]
    },
    {
      "cell_type": "code",
      "execution_count": null,
      "metadata": {
        "id": "BA0WqtX3acJj"
      },
      "outputs": [],
      "source": [
        "def load_from_drive(dataset_file_path, extraction_path):\n",
        "    \"\"\"\n",
        "    Load a dataset from Google Drive and extract it to the specified path.\n",
        "\n",
        "    Parameters:\n",
        "    - dataset_file_path (str): Path to the zipped dataset file on Google Drive.\n",
        "    - extraction_path (str): Path where the dataset will be extracted.\n",
        "\n",
        "    Returns:\n",
        "    None\n",
        "    \"\"\"\n",
        "    # Mount Google Drive to access the dataset\n",
        "    drive.mount('/content/drive')\n",
        "\n",
        "    # Create the extraction directory if it doesn't exist\n",
        "    os.makedirs(extraction_path, exist_ok=True)\n",
        "\n",
        "    # Extract the zipped dataset\n",
        "    with zipfile.ZipFile(dataset_file_path, 'r') as zip_ref:\n",
        "        zip_ref.extractall(extraction_path)"
      ]
    },
    {
      "cell_type": "code",
      "execution_count": null,
      "metadata": {
        "colab": {
          "base_uri": "https://localhost:8080/"
        },
        "id": "rYED_2V3azTd",
        "outputId": "ba0c0087-3fba-4c58-b59e-a6d7931e3f0b"
      },
      "outputs": [],
      "source": [
        "# Load the dataset from the drive\n",
        "dataset_file_path = '/content/drive/My Drive/Products.zip'\n",
        "extraction_path = '/content/'\n",
        "\n",
        "load_from_drive('/content/drive/My Drive/Products.zip','/content/')\n"
      ]
    },
    {
      "cell_type": "code",
      "execution_count": 8,
      "metadata": {
        "id": "uMoDm_XDSHXf"
      },
      "outputs": [],
      "source": [
        "# Set image desired size\n",
        "target_size = (400, 400)\n",
        "\n",
        "# Set batch_size for tf dataset\n",
        "batch_size = 32"
      ]
    },
    {
      "cell_type": "code",
      "execution_count": 18,
      "metadata": {
        "id": "-waGixkMix8k"
      },
      "outputs": [],
      "source": [
        "# Path to dataset directory\n",
        "data_dir ='./Data/ProductsDataset'\n",
        "test_dir = \"./Data/TestDataset\""
      ]
    },
    {
      "cell_type": "code",
      "execution_count": 24,
      "metadata": {
        "id": "g6aWxwVpb7VC"
      },
      "outputs": [],
      "source": [
        "# Create a function to augemnt a dataset\n",
        "def augment_dataset(dataset, training=True):\n",
        "    \"\"\"\n",
        "    Apply data augmentation to a dataset.\n",
        "\n",
        "    Parameters:\n",
        "    - dataset (tf.data.Dataset): Input training dataset.\n",
        "    - training (bool, optional): Whether to apply data augmentation. Default is True.\n",
        "\n",
        "    Returns:\n",
        "    - augmented_dataset (tf.data.Dataset): Augmented training dataset if training is True, else the original dataset.\n",
        "    \"\"\"\n",
        "    # Define the data augmentation layers\n",
        "    data_augmentation = tf.keras.Sequential([\n",
        "        tf.keras.layers.experimental.preprocessing.RandomFlip(\"horizontal\"),\n",
        "        tf.keras.layers.experimental.preprocessing.RandomRotation(0.2),\n",
        "        tf.keras.layers.experimental.preprocessing.RandomZoom(0.2),\n",
        "        tf.keras.layers.experimental.preprocessing.RandomContrast(0.2),\n",
        "        tf.keras.layers.experimental.preprocessing.RandomTranslation(height_factor=0.2, width_factor=0.2),\n",
        "    ])\n",
        "\n",
        "    # Apply data augmentation to the dataset if training is True\n",
        "    augmented_dataset = dataset.map(lambda x, y: (data_augmentation(x, training=training), y))\n",
        "\n",
        "    return augmented_dataset\n"
      ]
    },
    {
      "cell_type": "code",
      "execution_count": 12,
      "metadata": {},
      "outputs": [],
      "source": [
        "# Set tf datagen parameters\n",
        "class_mode='sparse'\n",
        "split =0.2"
      ]
    },
    {
      "cell_type": "code",
      "execution_count": 22,
      "metadata": {
        "colab": {
          "base_uri": "https://localhost:8080/"
        },
        "id": "4okq-bAHSHXg",
        "outputId": "bcb8dc22-3ccf-41b9-8897-52299bc244e2"
      },
      "outputs": [],
      "source": [
        "\n",
        "def create_data_generators(data_dir, target_size, batch_size, class_mode, split=0.2, test_dir=None):\n",
        "    \"\"\"\n",
        "    Creates train, validation, and test tf data generators.\n",
        "\n",
        "    Parameters:\n",
        "    - data_dir (str): Directory path containing the dataset.\n",
        "    - target_size (tuple): Tuple specifying the height and width to which all images will be resized.\n",
        "    - batch_size (int): Size of the batches of data.\n",
        "    - class_mode (str): One of \"binary\", \"categorical\", \"sparse\", or \"input\". Defines the type of label arrays that are returned.\n",
        "    - split (float): Fraction of the dataset to allocate to validation.\n",
        "    - test_dir (str): Directory path containing the test dataset.\n",
        "\n",
        "    Returns:\n",
        "    - train_generator (tf.keras.preprocessing.image.DirectoryIterator): Train data generator.\n",
        "    - validation_generator (tf.keras.preprocessing.image.DirectoryIterator): Validation data generator.\n",
        "    - test_generator (tf.keras.preprocessing.image.DirectoryIterator): Test data generator.\n",
        "    \"\"\"\n",
        "    datagen = ImageDataGenerator(\n",
        "        validation_split=split,\n",
        "        rescale=1.0 / 255.0,\n",
        "    )\n",
        "\n",
        "    train_generator = datagen.flow_from_directory(\n",
        "        data_dir,\n",
        "        target_size=target_size,\n",
        "        batch_size=batch_size,\n",
        "        class_mode=class_mode,\n",
        "        subset='training',\n",
        "    )\n",
        "\n",
        "    validation_generator = datagen.flow_from_directory(\n",
        "        data_dir,\n",
        "        target_size=target_size,\n",
        "        batch_size=batch_size,\n",
        "        class_mode=class_mode,\n",
        "        subset='validation',\n",
        "    )\n",
        "\n",
        "    if test_dir:\n",
        "        test_datagen = ImageDataGenerator(\n",
        "            rescale=1.0 / 255.0,\n",
        "        )\n",
        "\n",
        "        test_generator = test_datagen.flow_from_directory(\n",
        "            directory=test_dir,\n",
        "            target_size=target_size,\n",
        "            batch_size=1,\n",
        "            class_mode='sparse',  # Adjust class_mode based on your requirement\n",
        "            shuffle=False,\n",
        "        )\n",
        "\n",
        "        return train_generator, validation_generator, test_generator\n",
        "    else:\n",
        "        return train_generator, validation_generator\n"
      ]
    },
    {
      "cell_type": "code",
      "execution_count": 23,
      "metadata": {},
      "outputs": [
        {
          "name": "stdout",
          "output_type": "stream",
          "text": [
            "Found 711 images belonging to 3 classes.\n"
          ]
        },
        {
          "name": "stdout",
          "output_type": "stream",
          "text": [
            "Found 177 images belonging to 3 classes.\n",
            "Found 192 images belonging to 3 classes.\n"
          ]
        }
      ],
      "source": [
        "# Create train, val and test data generators from paths\n",
        "\n",
        "train_gen, val_gen, test_gen = create_data_generators(data_dir, image_size, batch_size, class_mode, test_dir=test_dir)\n"
      ]
    },
    {
      "cell_type": "code",
      "execution_count": 25,
      "metadata": {
        "id": "VuY9o5VukG1-"
      },
      "outputs": [],
      "source": [
        "def get_labels_from_generator(generator):\n",
        "    \"\"\"\n",
        "    Get labels from a data generator.\n",
        "\n",
        "    Parameters:\n",
        "    - generator: Data generator yielding batches of data.\n",
        "\n",
        "    Returns:\n",
        "    - labels (list): List of labels extracted from the generator.\n",
        "    \"\"\"\n",
        "    labels = []\n",
        "\n",
        "    # Iterate through the generator to extract batch labels\n",
        "    for _ in range(len(generator)):\n",
        "        _, batch_labels = next(generator)\n",
        "        labels.extend(batch_labels)\n",
        "\n",
        "    return labels\n"
      ]
    },
    {
      "cell_type": "code",
      "execution_count": 63,
      "metadata": {},
      "outputs": [],
      "source": [
        "test_labels = get_labels_from_generator(test_gen)"
      ]
    },
    {
      "cell_type": "code",
      "execution_count": 27,
      "metadata": {
        "colab": {
          "base_uri": "https://localhost:8080/"
        },
        "id": "GPcq8M0KSHXi",
        "outputId": "6cbcf3da-1b88-49c3-a9fd-c93110e1809b"
      },
      "outputs": [
        {
          "name": "stdout",
          "output_type": "stream",
          "text": [
            "{'broken': 0, 'defect': 1, 'good': 2}\n",
            "['broken', 'defect', 'good']\n"
          ]
        }
      ],
      "source": [
        "# Extract classes\n",
        "class_indices = train_gen.class_indices\n",
        "print(class_indices)\n",
        "class_names = list(train_gen.class_indices.keys())\n",
        "print(class_names)"
      ]
    },
    {
      "cell_type": "code",
      "execution_count": 58,
      "metadata": {
        "id": "sbP9JvVBSHXj"
      },
      "outputs": [],
      "source": [
        "# Get size of train and validation samples\n",
        "num_train_samples = train_gen.n\n",
        "num_val_samples = val_gen.n\n",
        "num_test_samples = test_gen.n\n"
      ]
    },
    {
      "cell_type": "code",
      "execution_count": 30,
      "metadata": {
        "id": "6YvJptxsSHXj"
      },
      "outputs": [],
      "source": [
        "\n",
        "def dataset_from_gen(generator, target_size):\n",
        "    \"\"\"\n",
        "    Create a TensorFlow dataset from a data generator.\n",
        "\n",
        "    Parameters:\n",
        "    - generator: Data generator providing batches of data.\n",
        "    - target_size (tuple): Tuple specifying the height and width to which all images will be resized.\n",
        "\n",
        "    Returns:\n",
        "    - dataset (tf.data.Dataset): TensorFlow dataset created from the data generator.\n",
        "    \"\"\"\n",
        "    # Define the output signature of the dataset\n",
        "    output_signature = (\n",
        "        tf.TensorSpec(shape=(None, *target_size, 3), dtype=tf.float32),\n",
        "        tf.TensorSpec(shape=(None,), dtype=tf.float32)\n",
        "    )\n",
        "\n",
        "    # Create a TensorFlow dataset from the generator\n",
        "    dataset = tf.data.Dataset.from_generator(\n",
        "        lambda: generator,\n",
        "        output_signature=output_signature\n",
        "    )\n",
        "\n",
        "    return dataset\n"
      ]
    },
    {
      "cell_type": "code",
      "execution_count": 31,
      "metadata": {
        "id": "U7Q4wIuPLtA1"
      },
      "outputs": [],
      "source": [
        "# Create TensorFlow datasets from the generators\n",
        "train_dataset = dataset_from_gen(train_gen,target_size)\n",
        "validation_dataset = dataset_from_gen(val_gen,target_size)\n",
        "test_dataset=dataset_from_gen(test_gen,target_size)"
      ]
    },
    {
      "cell_type": "code",
      "execution_count": 34,
      "metadata": {
        "colab": {
          "base_uri": "https://localhost:8080/"
        },
        "id": "iXJOEM9uSHXk",
        "outputId": "5d6af017-304f-4090-e1a1-eab2d3c9e74d"
      },
      "outputs": [
        {
          "name": "stdout",
          "output_type": "stream",
          "text": [
            "Train Dataset <_FlatMapDataset element_spec=(TensorSpec(shape=(None, 400, 400, 3), dtype=tf.float32, name=None), TensorSpec(shape=(None,), dtype=tf.float32, name=None))>\n",
            "Validation Dataset: <_FlatMapDataset element_spec=(TensorSpec(shape=(None, 400, 400, 3), dtype=tf.float32, name=None), TensorSpec(shape=(None,), dtype=tf.float32, name=None))>\n"
          ]
        }
      ],
      "source": [
        "# View datasets properties\n",
        "print('Train Dataset',train_dataset)\n",
        "print('Validation Dataset:',validation_dataset)"
      ]
    },
    {
      "cell_type": "code",
      "execution_count": 53,
      "metadata": {
        "id": "nvuaAwfzSHXl"
      },
      "outputs": [],
      "source": [
        "# Set visualization style for matplotlib plots\n",
        "plt.style.use('default')"
      ]
    },
    {
      "cell_type": "code",
      "execution_count": 35,
      "metadata": {
        "id": "JM55xa8qSHXm"
      },
      "outputs": [],
      "source": [
        "\n",
        "def visualize_dataset(dataset, class_names, num_images):\n",
        "    \"\"\"\n",
        "    Visualize a batch of images from a TensorFlow dataset.\n",
        "\n",
        "    Parameters:\n",
        "    - dataset (tf.data.Dataset): TensorFlow dataset containing images and labels.\n",
        "    - class_names (list): List of class names corresponding to the labels.\n",
        "    - num_images (int): Number of images to visualize.\n",
        "\n",
        "    Returns:\n",
        "    None\n",
        "    \"\"\"\n",
        "    # Get a batch from the dataset\n",
        "    batch = next(iter(dataset))\n",
        "    images, labels = batch\n",
        "\n",
        "    # Create a figure for visualization\n",
        "    plt.figure(figsize=(15, 10))\n",
        "\n",
        "    # Visualize the specified number of images\n",
        "    for i in range(num_images):\n",
        "        plt.subplot(1, num_images, i + 1)\n",
        "        plt.imshow(images[i])\n",
        "        plt.title(class_names[int(labels[i])])\n",
        "        plt.axis('off')\n",
        "\n",
        "    # Adjust layout for better visualization\n",
        "    plt.tight_layout()\n",
        "    \n",
        "    # Show the plot\n",
        "    plt.show()\n"
      ]
    },
    {
      "cell_type": "code",
      "execution_count": 36,
      "metadata": {
        "id": "ePzFgrrrSHXo"
      },
      "outputs": [],
      "source": [
        "def preprocess_image(image, label):\n",
        "    \"\"\"\n",
        "    Preprocess an image by converting it to grayscale.\n",
        "\n",
        "    Parameters:\n",
        "    - image (tf.Tensor): Input image tensor.\n",
        "    - label: Label corresponding to the image.\n",
        "\n",
        "    Returns:\n",
        "    - preprocessed_image (tf.Tensor): Preprocessed image tensor.\n",
        "    - label: Unchanged label.\n",
        "    \"\"\"\n",
        "    # Convert the image to grayscale\n",
        "    preprocessed_image = tf.image.rgb_to_grayscale(image)\n",
        "\n",
        "    return preprocessed_image, label\n"
      ]
    },
    {
      "cell_type": "code",
      "execution_count": 48,
      "metadata": {
        "id": "lBDRbwniSHX6"
      },
      "outputs": [],
      "source": [
        "# Set model hyperparameters\n",
        "dilation_rate = 1\n",
        "num_classes = 3\n",
        "# Set image shape for model input\n",
        "img_shape = target_size + (3,)  # Add channel dimension"
      ]
    },
    {
      "cell_type": "markdown",
      "metadata": {
        "id": "xKuYI3cuuy9n"
      },
      "source": []
    },
    {
      "cell_type": "code",
      "execution_count": 65,
      "metadata": {},
      "outputs": [],
      "source": [
        "from tensorflow.keras import models, layers\n",
        "\n",
        "def create_cnn_model(input_shape, num_classes):\n",
        "    \"\"\"\n",
        "    Creates a custom Convolutional Neural Network (CNN) model.\n",
        "\n",
        "    Parameters:\n",
        "    - input_shape (tuple): The shape of the input images (height, width, channels).\n",
        "    - num_classes (int): The number of classes in the classification task.\n",
        "\n",
        "    Returns:\n",
        "    - model (tensorflow.keras.models.Sequential): The created CNN model.\n",
        "    \"\"\"\n",
        "\n",
        "    # Create a Sequential model\n",
        "    model = models.Sequential()\n",
        "\n",
        "    # Convolutional layers\n",
        "    model.add(layers.Conv2D(32, (3, 3), activation='relu', input_shape=input_shape, padding='same'))\n",
        "    model.add(layers.MaxPooling2D((2, 2)))\n",
        "\n",
        "    model.add(layers.Conv2D(32, (3, 3), activation='relu', padding='same'))\n",
        "    model.add(layers.MaxPooling2D((2, 2)))\n",
        "\n",
        "    model.add(layers.Conv2D(64, (3, 3), activation='relu', padding='same'))\n",
        "    model.add(layers.MaxPooling2D((2, 2)))\n",
        "\n",
        "    # Flatten layer\n",
        "    model.add(layers.Flatten())\n",
        "\n",
        "    # Dense layers\n",
        "    model.add(layers.Dense(256, activation='relu'))\n",
        "    model.add(layers.Dropout(0.5))\n",
        "\n",
        "    # Output layer\n",
        "    model.add(layers.Dense(num_classes, activation='softmax'))\n",
        "\n",
        "    # Model summary\n",
        "    model.summary()\n",
        "\n",
        "    return model\n"
      ]
    },
    {
      "cell_type": "code",
      "execution_count": null,
      "metadata": {},
      "outputs": [],
      "source": []
    },
    {
      "cell_type": "code",
      "execution_count": 66,
      "metadata": {},
      "outputs": [
        {
          "name": "stdout",
          "output_type": "stream",
          "text": [
            "Model: \"sequential_6\"\n",
            "_________________________________________________________________\n",
            " Layer (type)                Output Shape              Param #   \n",
            "=================================================================\n",
            " conv2d_16 (Conv2D)          (None, 400, 400, 32)      896       \n",
            "                                                                 \n",
            " max_pooling2d_16 (MaxPooli  (None, 200, 200, 32)      0         \n",
            " ng2D)                                                           \n",
            "                                                                 \n",
            " conv2d_17 (Conv2D)          (None, 200, 200, 32)      9248      \n",
            "                                                                 \n",
            " max_pooling2d_17 (MaxPooli  (None, 100, 100, 32)      0         \n",
            " ng2D)                                                           \n",
            "                                                                 \n",
            " conv2d_18 (Conv2D)          (None, 100, 100, 64)      18496     \n",
            "                                                                 \n",
            " max_pooling2d_18 (MaxPooli  (None, 50, 50, 64)        0         \n",
            " ng2D)                                                           \n",
            "                                                                 \n",
            " flatten_5 (Flatten)         (None, 160000)            0         \n",
            "                                                                 \n",
            " dense_8 (Dense)             (None, 256)               40960256  \n",
            "                                                                 \n",
            " dropout_4 (Dropout)         (None, 256)               0         \n",
            "                                                                 \n",
            " dense_9 (Dense)             (None, 3)                 771       \n",
            "                                                                 \n",
            "=================================================================\n",
            "Total params: 40989667 (156.36 MB)\n",
            "Trainable params: 40989667 (156.36 MB)\n",
            "Non-trainable params: 0 (0.00 Byte)\n",
            "_________________________________________________________________\n"
          ]
        }
      ],
      "source": [
        "# Create the model\n",
        "model = create_cnn_model(img_shape,num_classes)"
      ]
    },
    {
      "cell_type": "code",
      "execution_count": 67,
      "metadata": {
        "id": "BHKJXoGaSHYH"
      },
      "outputs": [],
      "source": [
        "# Compile model using adam ,sparse categorical cross entropy and accuracy as a performance measure.\n",
        "learning_rate = 0.0005\n",
        "model.compile(\n",
        "    optimizer=tf.keras.optimizers.Adam(learning_rate=learning_rate),\n",
        "    loss='sparse_categorical_crossentropy',\n",
        "    metrics=['accuracy']\n",
        ")"
      ]
    },
    {
      "cell_type": "code",
      "execution_count": 59,
      "metadata": {
        "id": "2a6lyaM-SHYI"
      },
      "outputs": [],
      "source": [
        "# Set epochs\n",
        "steps_per_epoch = (num_train_samples // batch_size) *3\n",
        "steps_per_epoch=steps_per_epoch\n",
        "validation_steps = (num_val_samples // batch_size)*3\n"
      ]
    },
    {
      "cell_type": "code",
      "execution_count": 60,
      "metadata": {},
      "outputs": [],
      "source": [
        "# Prepare train dataset for training : Augmentation\n",
        "augmented_train_dataset = augment_dataset(train_dataset)"
      ]
    },
    {
      "cell_type": "code",
      "execution_count": null,
      "metadata": {
        "colab": {
          "base_uri": "https://localhost:8080/"
        },
        "id": "VuNVWWh3SHYV",
        "outputId": "78af3a19-e491-4462-c671-47648d95d1a4"
      },
      "outputs": [],
      "source": [
        "# Train Model\n",
        "history = model.fit(\n",
        "    augmented_train_dataset,\n",
        "    steps_per_epoch=steps_per_epoch,\n",
        "    validation_data=validation_dataset,\n",
        "    validation_steps=validation_steps,\n",
        "    batch_size=32,\n",
        "    epochs = 15 )"
      ]
    },
    {
      "cell_type": "code",
      "execution_count": 68,
      "metadata": {
        "id": "7xc8JtxDSHYW"
      },
      "outputs": [],
      "source": [
        "import matplotlib.pyplot as plt\n",
        "\n",
        "def evaluate_training(model_history):\n",
        "    \"\"\"\n",
        "    Evaluate and visualize the training performance of a neural network model.\n",
        "\n",
        "    Parameters:\n",
        "    - model_history (tensorflow.keras.callbacks.History): The history object obtained from model training.\n",
        "\n",
        "    Returns:\n",
        "    - None: Displays plots of training accuracy and training/validation loss.\n",
        "    \"\"\"\n",
        "\n",
        "    # Extract metrics from history\n",
        "    acc = model_history.history['accuracy']\n",
        "    loss = model_history.history['loss']\n",
        "    val_loss = model_history.history['val_loss']\n",
        "\n",
        "    epochs_range = range(len(acc))\n",
        "\n",
        "    # Create a figure for subplots\n",
        "    plt.figure(figsize=(12, 16))\n",
        "\n",
        "    # Plot accuracy metrics\n",
        "    plt.subplot(3, 1, 1)\n",
        "    plt.plot(epochs_range, acc, label='Training Accuracy')\n",
        "    plt.legend(loc='lower right')\n",
        "    plt.title('Training Accuracy')\n",
        "\n",
        "    # Plot loss metrics\n",
        "    plt.subplot(3, 1, 2)\n",
        "    plt.plot(epochs_range, loss, label='Training Loss')\n",
        "    plt.plot(epochs_range, val_loss, label='Validation Loss')\n",
        "    plt.legend(loc='upper right')\n",
        "    plt.title('Training and Validation Loss')\n",
        "\n",
        "    # Adjust layout for better visualization\n",
        "    plt.tight_layout()\n",
        "\n",
        "    # Show the plots\n",
        "    plt.show()\n"
      ]
    },
    {
      "cell_type": "code",
      "execution_count": null,
      "metadata": {
        "colab": {
          "base_uri": "https://localhost:8080/",
          "height": 1000
        },
        "id": "y6d-xPN7u8jV",
        "outputId": "f1d6c506-ddb4-4aec-fddc-007e84efd9d7"
      },
      "outputs": [],
      "source": [
        "# View training metrics\n",
        "evaluate_training(history)"
      ]
    },
    {
      "cell_type": "code",
      "execution_count": null,
      "metadata": {
        "colab": {
          "base_uri": "https://localhost:8080/",
          "height": 581
        },
        "id": "ZpnvJMQLSHYk",
        "outputId": "7975a0dc-4860-40b0-bdfa-28e21363496c"
      },
      "outputs": [],
      "source": [
        "# Evaluate model on val dataset\n",
        "evaluation_res =model.evaluate(validation_dataset,steps=validation_steps)"
      ]
    },
    {
      "cell_type": "code",
      "execution_count": 71,
      "metadata": {},
      "outputs": [],
      "source": [
        "def make_predictions(model, test_dataset, num_test_samples):\n",
        "    \"\"\"\n",
        "    Make predictions using the given model on the provided test dataset.\n",
        "\n",
        "    Parameters:\n",
        "    - model (object): The trained machine learning model.\n",
        "    - test_dataset (object): The dataset on which predictions will be made.\n",
        "    - num_test_samples (int): The number of samples in the test dataset.\n",
        "\n",
        "    Returns:\n",
        "    - numpy.ndarray: An array of rounded predictions (0 or 1).\n",
        "    \"\"\"\n",
        "\n",
        "    # Predict on test data\n",
        "    pred = model.predict(test_dataset, steps=num_test_samples)\n",
        "\n",
        "    # Round predictions to 0 or 1\n",
        "    predicted_labels = np.round(pred).astype(int)\n",
        "\n",
        "    return predicted_labels\n"
      ]
    },
    {
      "cell_type": "code",
      "execution_count": 72,
      "metadata": {
        "id": "dyH9meUiMAj8"
      },
      "outputs": [
        {
          "name": "stdout",
          "output_type": "stream",
          "text": [
            "192/192 [==============================] - 20s 104ms/step\n"
          ]
        }
      ],
      "source": [
        "predicted_labels=make_predictions(model,test_dataset,num_test_samples)\n",
        "#\n"
      ]
    },
    {
      "cell_type": "code",
      "execution_count": 28,
      "metadata": {
        "id": "O_-lgXVyMRYw"
      },
      "outputs": [
        {
          "name": "stdout",
          "output_type": "stream",
          "text": [
            "Confusion Matrix:\n",
            "[[35  5  8]\n",
            " [ 1 52 11]\n",
            " [ 1  6 73]]\n"
          ]
        }
      ],
      "source": [
        "# Calculate the confusion matrix\n",
        "confusion = confusion_matrix(test_labels,predicted_labels.argmax(axis=1))\n",
        "\n",
        "print(\"Confusion Matrix:\")\n",
        "print(confusion)\n"
      ]
    },
    {
      "cell_type": "code",
      "execution_count": 54,
      "metadata": {
        "id": "1nsLkzPGMSrq"
      },
      "outputs": [
        {
          "data": {
            "image/png": "[encoded data removed]",
            "text/plain": [
              "<Figure size 800x600 with 2 Axes>"
            ]
          },
          "metadata": {},
          "output_type": "display_data"
        }
      ],
      "source": [
        "# Visualize the confusion matrix\n",
        "# Create a figure and axis for the plot\n",
        "plt.figure(figsize=(8, 6))\n",
        "plt.imshow(confusion, cmap=plt.cm.Reds)\n",
        "\n",
        "# Add title and labels\n",
        "plt.title(\"Confusion Matrix\")\n",
        "plt.xlabel(\"Predicted\")\n",
        "plt.ylabel(\"Actual\")\n",
        "\n",
        "# Display the confusion matrix with appropriate colorbar\n",
        "plt.colorbar()\n",
        "plt.show()"
      ]
    },
    {
      "cell_type": "code",
      "execution_count": 30,
      "metadata": {
        "id": "euR5KhL_MKAe"
      },
      "outputs": [
        {
          "name": "stdout",
          "output_type": "stream",
          "text": [
            "Classification Report:\n",
            "              precision    recall  f1-score   support\n",
            "\n",
            "      Broken       0.95      0.73      0.82        48\n",
            "      Defect       0.83      0.81      0.82        64\n",
            "        Good       0.79      0.91      0.85        80\n",
            "\n",
            "    accuracy                           0.83       192\n",
            "   macro avg       0.85      0.82      0.83       192\n",
            "weighted avg       0.84      0.83      0.83       192\n",
            "\n"
          ]
        }
      ],
      "source": [
        "# View Cassification Report\n",
        "# Calculate and print the classification report\n",
        "report = classification_report(test_labels,predicted_labels.argmax(axis=1),target_names=class_names)\n",
        "print(\"Classification Report:\")\n",
        "print(report)"
      ]
    },
    {
      "cell_type": "code",
      "execution_count": 79,
      "metadata": {
        "colab": {
          "base_uri": "https://localhost:8080/"
        },
        "id": "Q9LZPArERdSR",
        "outputId": "2cbcf13d-9e61-4b3d-8f4e-9263a0b04be8"
      },
      "outputs": [],
      "source": [
        "\n",
        "def apply_weight_clustering(model, num_of_clusters, clustering_learning_rate):\n",
        "    \"\"\"\n",
        "    Apply weight clustering to the given model.\n",
        "\n",
        "    Parameters:\n",
        "    - model (tf.keras.Model): The input model to be clustered.\n",
        "    - num_of_clusters (int): The number of clusters to use for weight clustering.\n",
        "    - clustering_learning_rate (float): The learning rate for fine-tuning the clustered model.\n",
        "\n",
        "    Returns:\n",
        "    - tf.keras.Model: The clustered model.\n",
        "    \"\"\"\n",
        "\n",
        "    # Import required modules from TensorFlow Model Optimization\n",
        "    cluster_weights = tfmot.clustering.keras.cluster_weights\n",
        "    CentroidInitialization = tfmot.clustering.keras.CentroidInitialization\n",
        "\n",
        "    # Set clustering parameters\n",
        "    clustering_params = {\n",
        "        'number_of_clusters': num_of_clusters,\n",
        "        'cluster_centroids_init': CentroidInitialization.LINEAR\n",
        "    }\n",
        "\n",
        "    # Cluster the whole model\n",
        "    clustered_model = cluster_weights(model, **clustering_params)\n",
        "\n",
        "    # Use a smaller learning rate for fine-tuning the clustered model\n",
        "    opt = tf.keras.optimizers.Adam(learning_rate=clustering_learning_rate)\n",
        "\n",
        "    # Compile the clustered model with specified metrics\n",
        "    clustered_model.compile(\n",
        "        loss='binary_crossentropy',\n",
        "        optimizer=opt,\n",
        "        metrics=[\n",
        "            'accuracy',\n",
        "            Precision(name='precision'),\n",
        "            Recall(name='recall'),\n",
        "            AUC(name='auc_roc'),\n",
        "            AUC(name='auc_pr', curve='PR')\n",
        "        ]\n",
        "    )\n",
        "\n",
        "    # Display a summary of the clustered model\n",
        "    clustered_model.summary()\n",
        "\n",
        "    return clustered_model\n",
        "\n",
        "\n"
      ]
    },
    {
      "cell_type": "code",
      "execution_count": null,
      "metadata": {},
      "outputs": [],
      "source": [
        "# Apply weight clustering for model\n",
        "num_of_clusters=16\n",
        "clustering_learning_rate=1e-5\n",
        "\n",
        "clustered_model = apply_weight_clustering(model,num_of_clusters,clustering_learning_rate)"
      ]
    },
    {
      "cell_type": "code",
      "execution_count": null,
      "metadata": {},
      "outputs": [],
      "source": [
        "# Fine-tune model\n",
        "clustered_model.fit(\n",
        "augmented_train_dataset,\n",
        "  steps_per_epoch=steps_per_epoch*3,\n",
        "  epochs=1,\n",
        "  validation_data =validation_dataset,validation_steps=validation_steps*3)"
      ]
    },
    {
      "cell_type": "code",
      "execution_count": null,
      "metadata": {},
      "outputs": [],
      "source": []
    },
    {
      "cell_type": "code",
      "execution_count": 48,
      "metadata": {
        "colab": {
          "base_uri": "https://localhost:8080/",
          "height": 356
        },
        "id": "nYeamZVoRdJr",
        "outputId": "1fe506c9-21f8-491b-dad9-da4c332883ba"
      },
      "outputs": [
        {
          "name": "stdout",
          "output_type": "stream",
          "text": [
            "72/72 [==============================] - 255s 4s/step - loss: 0.4527 - accuracy: 0.8468\n",
            "72/72 [==============================] - 416s 6s/step - loss: 0.4416 - accuracy: 0.8515\n"
          ]
        }
      ],
      "source": [
        "# Compare models performances\n",
        "baseline_model_metrics = model.evaluate(validation_dataset,steps=validation_steps*3)\n",
        "clustered_model_metrics = clustered_model.evaluate(validation_dataset,steps=validation_steps*3)"
      ]
    },
    {
      "cell_type": "code",
      "execution_count": 49,
      "metadata": {
        "id": "c4Y37BYvRdGo"
      },
      "outputs": [
        {
          "name": "stdout",
          "output_type": "stream",
          "text": [
            "Metrics for Baseline Model:\n",
            "Loss: 0.45265692472457886\n",
            "Accuracy: 0.8468044996261597\n",
            "\n",
            "Metrics for Clustered Model:\n",
            "Loss: 0.4415624141693115\n",
            "Accuracy: 0.8515037298202515\n"
          ]
        }
      ],
      "source": [
        "\n",
        "baseline_metrics = {\n",
        "    'Loss': baseline_model_metrics[0],\n",
        "    'Accuracy': baseline_model_metrics[1],\n",
        "\n",
        "}\n",
        "\n",
        "clustered_metrics = {\n",
        "    'Loss': clustered_model_metrics[0],\n",
        "    'Accuracy': clustered_model_metrics[1],\n",
        "\n",
        "}\n",
        "\n",
        "\n",
        "print(\"Metrics for Baseline Model:\")\n",
        "for metric_name, metric_value in baseline_metrics.items():\n",
        "    print(f\"{metric_name}: {metric_value}\")\n",
        "\n",
        "print(\"\\nMetrics for Clustered Model:\")\n",
        "for metric_name, metric_value in clustered_metrics.items():\n",
        "    print(f\"{metric_name}: {metric_value}\")\n",
        "\n",
        "\n"
      ]
    },
    {
      "cell_type": "code",
      "execution_count": null,
      "metadata": {},
      "outputs": [],
      "source": [
        "clustered_labels = make_predictions(clustered_model, test_dataset, num_test_samples)\n"
      ]
    },
    {
      "cell_type": "code",
      "execution_count": 50,
      "metadata": {
        "id": "59K7wMehRdEF"
      },
      "outputs": [
        {
          "name": "stdout",
          "output_type": "stream",
          "text": [
            "192/192 [==============================] - 657s 3s/step\n",
            "Confusion Matrix:\n",
            "[[35  6  7]\n",
            " [ 2 48 14]\n",
            " [ 1  8 71]]\n"
          ]
        }
      ],
      "source": [
        "# Calculate the confusion matrix\n",
        "confusion = confusion_matrix(test_labels,clustered_labels.argmax(axis=1))\n",
        "\n",
        "print(\"Confusion Matrix:\")\n",
        "print(confusion)\n",
        "\n",
        "\n"
      ]
    },
    {
      "cell_type": "code",
      "execution_count": 55,
      "metadata": {
        "id": "s_vzPqg7Rr0P"
      },
      "outputs": [
        {
          "data": {
            "image/png": "[encoded data removed]",
            "text/plain": [
              "<Figure size 800x600 with 2 Axes>"
            ]
          },
          "metadata": {},
          "output_type": "display_data"
        }
      ],
      "source": [
        "# Plot the confusion matrix\n",
        "plt.figure(figsize=(8, 6))\n",
        "plt.imshow(confusion, cmap=plt.cm.Reds)\n",
        "\n",
        "# Add title and labels\n",
        "plt.title(\"Confusion Matrix\")\n",
        "plt.xlabel(\"Predicted\")\n",
        "plt.ylabel(\"Actual\")\n",
        "\n",
        "# Display the confusion matrix with appropriate colorbar\n",
        "plt.colorbar()\n",
        "plt.show()"
      ]
    },
    {
      "cell_type": "code",
      "execution_count": 52,
      "metadata": {
        "id": "7WQbGt-KRrw9"
      },
      "outputs": [
        {
          "name": "stdout",
          "output_type": "stream",
          "text": [
            "Classification Report:\n",
            "              precision    recall  f1-score   support\n",
            "\n",
            "      Broken       0.92      0.73      0.81        48\n",
            "      Defect       0.77      0.75      0.76        64\n",
            "        Good       0.77      0.89      0.83        80\n",
            "\n",
            "    accuracy                           0.80       192\n",
            "   macro avg       0.82      0.79      0.80       192\n",
            "weighted avg       0.81      0.80      0.80       192\n",
            "\n"
          ]
        }
      ],
      "source": [
        "# Calculate and print the classification report\n",
        "report = classification_report(test_labels, clustered_labels.argmax(axis=1),target_names=class_names)\n",
        "print(\"Classification Report:\")\n",
        "print(report)"
      ]
    },
    {
      "cell_type": "code",
      "execution_count": null,
      "metadata": {},
      "outputs": [],
      "source": [
        "# Prepare model for serving by removing training-only variables.\n",
        "model_for_serving = tfmot.clustering.keras.strip_clustering(clustered_model)"
      ]
    },
    {
      "cell_type": "code",
      "execution_count": null,
      "metadata": {
        "id": "lkjA1xj_aoaR"
      },
      "outputs": [],
      "source": [
        "model_for_serving .save('Model_for_Serving.h5')"
      ]
    }
  ],
  "metadata": {
    "accelerator": "GPU",
    "colab": {
      "gpuType": "T4",
      "provenance": []
    },
    "kernelspec": {
      "display_name": "Python 3",
      "name": "python3"
    },
    "language_info": {
      "codemirror_mode": {
        "name": "ipython",
        "version": 3
      },
      "file_extension": ".py",
      "mimetype": "text/x-python",
      "name": "python",
      "nbconvert_exporter": "python",
      "pygments_lexer": "ipython3",
      "version": "3.10.11"
    }
  },
  "nbformat": 4,
  "nbformat_minor": 0
}
